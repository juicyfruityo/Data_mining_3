{
 "cells": [
  {
   "cell_type": "code",
   "execution_count": 1,
   "metadata": {},
   "outputs": [],
   "source": [
    "import pandas as pd\n",
    "import numpy as np\n",
    "\n",
    "from sklearn.tree import DecisionTreeRegressor\n",
    "from sklearn.ensemble import GradientBoostingRegressor\n",
    "from sklearn.datasets import california_housing\n",
    "\n",
    "from sklearn.metrics import mean_squared_error\n",
    "from sklearn.model_selection import train_test_split, KFold\n",
    "\n",
    "from tqdm import trange\n",
    "\n",
    "import matplotlib.pyplot as plt"
   ]
  },
  {
   "cell_type": "code",
   "execution_count": 2,
   "metadata": {},
   "outputs": [],
   "source": [
    "class MyDecisionTreeRegr:\n",
    "    def __init__(self, max_depth=None, min_samples_split=2, min_samples_leaf=1,\n",
    "                 min_weight_fraction_leaf=0.0, max_features=None, random_state=None,\n",
    "                 max_leaf_nodes=None, min_impurity_decrease=0.0, min_impurity_split=None):\n",
    "        self.max_depth = max_depth\n",
    "        self.min_samples_split = min_samples_split\n",
    "        self.min_samples_leaf = min_samples_leaf\n",
    "        self.min_weight_fraction_leaf = min_weight_fraction_leaf\n",
    "        self.max_features = max_features\n",
    "        self.random_state = random_state\n",
    "        self.max_leaf_nodes = max_leaf_nodes\n",
    "        self.min_impurity_decrease = min_impurity_decrease\n",
    "        self.min_impurity_split = min_impurity_split\n",
    "        \n",
    "        self.tree = dict()  # Номер узла: информация об узле.\n",
    "        \n",
    "        self.Leaf = True\n",
    "        self.notLeaf = False\n",
    "\n",
    "    def _search_split(self, X, y):\n",
    "        sorted_idx = X.argsort(axis=0)\n",
    "        sortedX = np.sort(X, axis=0)\n",
    "        sortedY = y[sorted_idx]\n",
    "        \n",
    "        sumY = np.cumsum(sortedY, axis=0)\n",
    "        sumY_2 = np.cumsum(sortedY**2, axis=0)\n",
    "        revsumY = np.cumsum(sortedY[::-1], axis=0)[::-1]\n",
    "        revsumY_2 = np.cumsum(sortedY[::-1]**2, axis=0)[::-1]\n",
    "        \n",
    "        # Вычисляю кумулятивно критерий для каждого разбиения, потом ищу максимум.\n",
    "        length = np.array(range(1, X.shape[0]+1)).reshape(-1, 1)\n",
    "        left_crit = sumY_2 - 2 * sumY**2 / length + sumY**2 / length**2\n",
    "        right_crit = revsumY_2 - 2 * revsumY**2 / length[::-1] + revsumY**2 / length[::-1]**2\n",
    "        \n",
    "        crit = np.std(y)\n",
    "        crit -= left_crit / y.shape[0]\n",
    "        # Т.к. разделение в правую ветку идет со знаком <.\n",
    "        crit[:-1] -= right_crit[1:] / y.shape[0]\n",
    "        \n",
    "        # Удалить неинформативные фичи.\n",
    "        bad_idx = np.where(abs(np.max(sortedX, axis=0) - np.min(sortedX, axis=0)) < 0.001)[0]\n",
    "        if bad_idx.shape[0] > 0:\n",
    "            crit[:, bad_idx] = np.nan\n",
    "        \n",
    "        crit[np.isclose(sortedX, np.roll(sortedX, shift=-1, axis=0))] = np.nan\n",
    "\n",
    "        # Для проверки, что не все NaN.\n",
    "        try:\n",
    "            _ = np.nanargmax(crit)\n",
    "        except ValueError:\n",
    "            return None, None, None, False\n",
    "\n",
    "        crit[np.isnan(crit)] = float('-inf')\n",
    "        # Отбираем лучшие отсечки по кадой фиче.\n",
    "        best_splits = np.argmax(crit, axis=0).reshape(-1, 1)\n",
    "        best_crits = np.zeros(best_splits.shape[0])\n",
    "        non_inf_counter = 0  # Считаем сколько валидных отсечек.\n",
    "        for i in range(best_splits.shape[0]):\n",
    "            best_crits[i] = crit[best_splits[i], i]\n",
    "            if best_crits[i] > float('-inf'):\n",
    "                non_inf_counter += 1\n",
    "        \n",
    "        num_feat = 10\n",
    "        if non_inf_counter < num_feat:\n",
    "            num_feat = non_inf_counter\n",
    "        # Отбираем лучшие фичи по своим лучшим отсечкам.\n",
    "        best_feats = np.argpartition(-best_crits, num_feat, axis=None)[:num_feat]\n",
    "        \n",
    "        # Находим веса лучших фичей по размеру их критерия.\n",
    "        feats_weight = np.zeros(best_feats.shape[0])\n",
    "        sum_weight = np.sum(best_crits[best_feats])\n",
    "        for i in range(best_feats.shape[0]):\n",
    "            feats_weight[i] = best_crits[best_feats[i]] / float(sum_weight)\n",
    "\n",
    "        feats_id = best_feats\n",
    "        thrls_id = np.zeros(best_feats.shape[0])\n",
    "        for i in range(best_feats.shape[0]):\n",
    "            thrls_id[i] = sortedX[best_splits[feats_id[i]], feats_id[i]]\n",
    "            \n",
    "        return feats_id.astype(int), thrls_id, feats_weight, True\n",
    "    \n",
    "    def _make_partition(self, X, y, feature_id, threshold, weight, predict=False):\n",
    "        # Смотрим какие фичи объектов <= своих отсечек, умножаем на свой вес.\n",
    "        idx_left = np.sum(np.where(X[:, feature_id] <= threshold, 1, -1) * weight, axis=1) >= 0\n",
    "        idx_right = ~idx_left\n",
    "        \n",
    "        if predict is False:\n",
    "            return X[idx_left], y[idx_left], X[idx_right], y[idx_right]\n",
    "        else:\n",
    "            return idx_left, idx_right\n",
    "        \n",
    "    def _fit_node(self, X, y, node_id, depth):\n",
    "        # Если выполнен критерий остановки, создать листовую вершину.\n",
    "        if (X.shape[0] < self.min_samples_split or depth == self.max_depth):\n",
    "            self.tree[node_id] = [self.Leaf, np.mean(y)]\n",
    "            return\n",
    "        \n",
    "        feature_id, threshold, weight, isOkay = self._search_split(X, y)\n",
    "        \n",
    "        # Значит скорее всего все фичи уже одинаковые в этом поддереве, двигаться некуда.\n",
    "        if isOkay is False:\n",
    "            self.tree[node_id] = [self.Leaf, np.mean(y)]\n",
    "            return\n",
    "        \n",
    "        X_left, y_left, X_right, y_right = self._make_partition(X, y, feature_id,\n",
    "                                                                threshold, weight)\n",
    "        \n",
    "        if (X_left.shape[0] < self.min_samples_leaf or\n",
    "            X_right.shape[0] < self.min_samples_leaf):\n",
    "\n",
    "            self.tree[node_id] = [self.Leaf, np.mean(y)]            \n",
    "        else:\n",
    "            self.tree[node_id] = [self.notLeaf, feature_id, threshold, weight]\n",
    "            self._fit_node(X_left, y_left, 2*node_id+1, depth+1)\n",
    "            self._fit_node(X_right, y_right, 2*node_id+2, depth+1)\n",
    "        \n",
    "    def fit(self, X, y):\n",
    "        X = np.array(X)\n",
    "        y = np.array(y)\n",
    "        \n",
    "        self._fit_node(X, y, 0, 0)\n",
    "        \n",
    "    def _predict(self, X, node_id):\n",
    "        node_info = self.tree[node_id]\n",
    "        answer = np.zeros(X.shape[0])\n",
    "\n",
    "        if node_info[0] is self.notLeaf:\n",
    "            feature_id, threshold, weight = node_info[1], node_info[2], node_info[3]\n",
    "            \n",
    "            ids_left, ids_right = self._make_partition(X, None, feature_id,\n",
    "                                                   threshold, weight, predict=True)\n",
    "            answer[ids_left] = self._predict(X[ids_left], 2*node_id+1)\n",
    "            answer[ids_right] = self._predict(X[ids_right], 2*node_id+2)\n",
    "        else:\n",
    "            answer = np.array([node_info[1]] * X.shape[0])\n",
    "            \n",
    "        return answer\n",
    "            \n",
    "        \n",
    "    def predict(self, X):\n",
    "        X = np.array(X)\n",
    "        return self._predict(X, 0)"
   ]
  },
  {
   "cell_type": "code",
   "execution_count": 3,
   "metadata": {},
   "outputs": [],
   "source": [
    "class constanta:\n",
    "    def fit(self, X, y):\n",
    "        self.result = np.mean(y)\n",
    "\n",
    "    def predict(self, X):\n",
    "        return self.result"
   ]
  },
  {
   "cell_type": "code",
   "execution_count": 4,
   "metadata": {},
   "outputs": [],
   "source": [
    "class MyGradientBoostingRegr:\n",
    "    def __init__(self, learning_rate=0.1, n_estimators=100, subsample=1.0,\n",
    "                 min_samples_split=2, min_samples_leaf=1,\n",
    "                 max_depth=3, alpha=0.9, uprage_trees=False):\n",
    "        self.learning_rate = learning_rate\n",
    "        self.n_estimators = n_estimators + 1  # +1 для константы.\n",
    "        self.subsample = subsample\n",
    "        self.min_samples_split = min_samples_split\n",
    "        self.min_samples_leaf = min_samples_leaf\n",
    "        self.max_depth = max_depth\n",
    "        self.alpha = alpha\n",
    "        self.uprage_trees = uprage_trees\n",
    "        \n",
    "        self.estimators = []\n",
    "        self.weights = []\n",
    "        \n",
    "    def _calculate_weight(self, G_ij, X, h_next):\n",
    "        y_pred = h_next.predict(X)\n",
    "#         weights = G_ij / y_pred  # Было изначально так.\n",
    "        weights = np.sum(y_pred * G_ij) / np.sum(y_pred**2)\n",
    "        \n",
    "        return np.mean(weights)\n",
    "        \n",
    "    def fit(self, X, y):\n",
    "        X = np.array(X)\n",
    "        y = np.array(y)\n",
    "        \n",
    "        h_curr = constanta()\n",
    "#         h_curr = MyDecisionTreeRegr(max_depth=3)\n",
    "        h_curr.fit(X, y)\n",
    "        w_curr = 1.0 * 1  #self.learning_rate\n",
    "        self.estimators.append(h_curr)\n",
    "        self.weights.append(w_curr)\n",
    "        \n",
    "        G_ij = y\n",
    "        \n",
    "        for i in range(1, self.n_estimators):\n",
    "#             if self.uprage_trees:\n",
    "#                 if i % 100 == 0:\n",
    "#                     self.max_depth += 1\n",
    "            \n",
    "            y_pred = h_curr.predict(X) * w_curr\n",
    "            G_ij = G_ij - y_pred\n",
    "            \n",
    "            h_next = MyDecisionTreeRegr(max_depth=self.max_depth)\n",
    "            h_next.fit(X, G_ij)\n",
    "            \n",
    "            w_next = self._calculate_weight(G_ij, X, h_next) * self.learning_rate\n",
    "            \n",
    "            self.estimators.append(h_next)\n",
    "            self.weights.append(w_next)\n",
    "            \n",
    "            h_curr = h_next\n",
    "            w_curr = w_next\n",
    "\n",
    "    def predict(self, X):\n",
    "        answer = np.zeros(X.shape[0])\n",
    "        for i in range(self.n_estimators):\n",
    "            answer += self.weights[i] * self.estimators[i].predict(X)\n",
    "        return answer"
   ]
  },
  {
   "cell_type": "code",
   "execution_count": 16,
   "metadata": {},
   "outputs": [
    {
     "name": "stdout",
     "output_type": "stream",
     "text": [
      "CPU times: user 2min 35s, sys: 13.7 s, total: 2min 49s\n",
      "Wall time: 2min 49s\n"
     ]
    },
    {
     "data": {
      "text/plain": [
       "0.793323694606416"
      ]
     },
     "execution_count": 16,
     "metadata": {},
     "output_type": "execute_result"
    }
   ],
   "source": [
    "%%time\n",
    "my_gbr = MyGradientBoostingRegr(n_estimators=300)\n",
    "my_gbr.fit(X_train, y_train)\n",
    "\n",
    "y_res = my_gbr.predict(X_test)\n",
    "mean_squared_error(y_test, y_res)"
   ]
  },
  {
   "cell_type": "code",
   "execution_count": 7,
   "metadata": {},
   "outputs": [
    {
     "name": "stdout",
     "output_type": "stream",
     "text": [
      "CPU times: user 2min 50s, sys: 20.5 s, total: 3min 10s\n",
      "Wall time: 3min 10s\n"
     ]
    },
    {
     "data": {
      "text/plain": [
       "0.7917525974802382"
      ]
     },
     "execution_count": 7,
     "metadata": {},
     "output_type": "execute_result"
    }
   ],
   "source": [
    "%%time\n",
    "\n",
    "# Немного поменял вычисление весов.\n",
    "my_gbr = MyGradientBoostingRegr(n_estimators=300)\n",
    "my_gbr.fit(X_train, y_train)\n",
    "\n",
    "y_res = my_gbr.predict(X_test)\n",
    "mean_squared_error(y_test, y_res)"
   ]
  },
  {
   "cell_type": "code",
   "execution_count": null,
   "metadata": {},
   "outputs": [],
   "source": []
  },
  {
   "cell_type": "code",
   "execution_count": 26,
   "metadata": {},
   "outputs": [
    {
     "name": "stderr",
     "output_type": "stream",
     "text": [
      "100%|██████████| 10/10 [25:53<00:00, 155.31s/it]\n"
     ]
    }
   ],
   "source": [
    "# results_mygbr_v1 = []\n",
    "\n",
    "# for i in trange(50, 550, 50):\n",
    "#     # С constanta()\n",
    "#     my_gbr = MyGradientBoostingRegr(n_estimators=i)\n",
    "#     my_gbr.fit(X_train, y_train)\n",
    "    \n",
    "#     y_res = my_gbr.predict(X_test)\n",
    "#     results_mygbr_v1.append(mean_squared_error(y_test, y_res))"
   ]
  },
  {
   "cell_type": "code",
   "execution_count": 15,
   "metadata": {
    "scrolled": true
   },
   "outputs": [
    {
     "name": "stderr",
     "output_type": "stream",
     "text": [
      "100%|██████████| 10/10 [28:35<00:00, 171.54s/it]\n"
     ]
    }
   ],
   "source": [
    "# results_mygbr = []\n",
    "# results_gbr = []\n",
    "\n",
    "# for i in trange(50, 550, 50):\n",
    "#     my_gbr = MyGradientBoostingRegr(n_estimators=i)\n",
    "#     my_gbr.fit(X_train, y_train)\n",
    "    \n",
    "#     y_res = my_gbr.predict(X_test)\n",
    "#     results_mygbr.append(mean_squared_error(y_test, y_res))"
   ]
  },
  {
   "cell_type": "code",
   "execution_count": 6,
   "metadata": {},
   "outputs": [
    {
     "name": "stderr",
     "output_type": "stream",
     "text": [
      "100%|██████████| 10/10 [27:36<00:00, 165.68s/it]\n"
     ]
    }
   ],
   "source": [
    "results_mygbr_v2 = []\n",
    "\n",
    "for i in trange(50, 550, 50):\n",
    "    # С constanta() и с немного другим подсчетом весов.\n",
    "    my_gbr = MyGradientBoostingRegr(n_estimators=i)\n",
    "    my_gbr.fit(X_train, y_train)\n",
    "    \n",
    "    y_res = my_gbr.predict(X_test)\n",
    "    results_mygbr_v2.append(mean_squared_error(y_test, y_res))"
   ]
  },
  {
   "cell_type": "code",
   "execution_count": 12,
   "metadata": {},
   "outputs": [
    {
     "name": "stderr",
     "output_type": "stream",
     "text": [
      "100%|██████████| 10/10 [02:17<00:00, 13.74s/it]\n"
     ]
    }
   ],
   "source": [
    "results_gbr = []\n",
    "for i in trange(50, 550, 50):\n",
    "    gbr = GradientBoostingRegressor(n_estimators=i)\n",
    "    gbr.fit(X_train, y_train)\n",
    "    \n",
    "    y_res = gbr.predict(X_test)\n",
    "    results_gbr.append(mean_squared_error(y_test, y_res))"
   ]
  },
  {
   "cell_type": "code",
   "execution_count": 13,
   "metadata": {},
   "outputs": [
    {
     "data": {
      "text/plain": [
       "Text(0, 0.5, 'MSE')"
      ]
     },
     "execution_count": 13,
     "metadata": {},
     "output_type": "execute_result"
    },
    {
     "data": {
      "image/png": "[encoded data removed]",
      "text/plain": [
       "<Figure size 432x288 with 1 Axes>"
      ]
     },
     "metadata": {
      "needs_background": "light"
     },
     "output_type": "display_data"
    }
   ],
   "source": [
    "t = [i for i in range(50, 550, 50)]\n",
    "plt.plot(t, results_mygbr_v2[:])\n",
    "plt.plot(t, np.array(results_gbr[:])*1.03, c='r', linestyle='--')\n",
    "plt.plot(t, np.array(results_gbr[:])*0.97, c='r', linestyle='--')\n",
    "plt.plot(t, results_gbr[:])\n",
    "plt.xlabel(\"Количество базовых моделей\")\n",
    "plt.ylabel(\"MSE\")"
   ]
  },
  {
   "cell_type": "markdown",
   "metadata": {},
   "source": [
    "#### Синий - мой градиентный бустинг на деревьях с линейными признаками, оранжевый - градиентный бустинг в sklearn."
   ]
  },
  {
   "cell_type": "code",
   "execution_count": null,
   "metadata": {},
   "outputs": [],
   "source": []
  },
  {
   "cell_type": "code",
   "execution_count": null,
   "metadata": {},
   "outputs": [],
   "source": []
  },
  {
   "cell_type": "code",
   "execution_count": null,
   "metadata": {},
   "outputs": [],
   "source": []
  },
  {
   "cell_type": "code",
   "execution_count": null,
   "metadata": {},
   "outputs": [],
   "source": []
  },
  {
   "cell_type": "code",
   "execution_count": null,
   "metadata": {},
   "outputs": [],
   "source": []
  },
  {
   "cell_type": "code",
   "execution_count": 5,
   "metadata": {},
   "outputs": [],
   "source": [
    "X_train = []\n",
    "y_train = []\n",
    "with open('Regression dataset/reg.train.txt', 'r') as file:\n",
    "\n",
    "    for line in file:\n",
    "        try:\n",
    "            line = line.rstrip()\n",
    "            buf = line.split()\n",
    "            y = buf[0]\n",
    "            y_train.append(float(y))\n",
    "\n",
    "            x = np.array([-9.0]*245)\n",
    "            for elem in buf[1:-1]:\n",
    "                id, feat = elem.split(':')\n",
    "                x[int(id)-1] = float(feat)\n",
    "            X_train.append(x)\n",
    "        except:\n",
    "            print(line)\n",
    "    \n",
    "    line = file.readline()\n",
    "    \n",
    "X_train = np.array(X_train)\n",
    "y_train = np.array(y_train)\n",
    "\n",
    "\n",
    "X_test = []\n",
    "y_test = []\n",
    "with open('Regression dataset/reg.test.txt', 'r') as file:\n",
    "\n",
    "    for line in file:\n",
    "        try:\n",
    "            line = line.rstrip()\n",
    "            buf = line.split()\n",
    "            y = buf[0]\n",
    "            y_test.append(float(y))\n",
    "\n",
    "            x = np.array([-9.0]*245)\n",
    "            for elem in buf[1:-1]:\n",
    "                id, feat = elem.split(':')\n",
    "                x[int(id)-1] = float(feat)\n",
    "            X_test.append(x)\n",
    "        except:\n",
    "            print(line)\n",
    "    \n",
    "    line = file.readline()\n",
    "        \n",
    "    \n",
    "    \n",
    "X_test = np.array(X_test)\n",
    "y_test = np.array(y_test)"
   ]
  },
  {
   "cell_type": "code",
   "execution_count": null,
   "metadata": {},
   "outputs": [],
   "source": []
  }
 ],
 "metadata": {
  "kernelspec": {
   "display_name": "Python 3",
   "language": "python",
   "name": "python3"
  },
  "language_info": {
   "codemirror_mode": {
    "name": "ipython",
    "version": 3
   },
   "file_extension": ".py",
   "mimetype": "text/x-python",
   "name": "python",
   "nbconvert_exporter": "python",
   "pygments_lexer": "ipython3",
   "version": "3.7.3"
  }
 },
 "nbformat": 4,
 "nbformat_minor": 2
}
